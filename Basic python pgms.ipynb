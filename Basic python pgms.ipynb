{
 "cells": [
  {
   "cell_type": "code",
   "execution_count": 1,
   "metadata": {},
   "outputs": [
    {
     "name": "stdout",
     "output_type": "stream",
     "text": [
      "<class 'float'>\n",
      "<class 'int'>\n",
      "<class 'str'>\n"
     ]
    }
   ],
   "source": [
    "#Basic python pgms\n",
    "#type() method\n",
    "a = 10.0\n",
    "b = 10\n",
    "c = '10'\n",
    "print(type(a))\n",
    "print(type(b))\n",
    "print(type(c))"
   ]
  },
  {
   "cell_type": "code",
   "execution_count": 2,
   "metadata": {},
   "outputs": [
    {
     "name": "stdout",
     "output_type": "stream",
     "text": [
      "30\n"
     ]
    }
   ],
   "source": [
    "#print()\n",
    "a = 10\n",
    "b = 20\n",
    "print (a+b)"
   ]
  },
  {
   "cell_type": "code",
   "execution_count": 3,
   "metadata": {},
   "outputs": [
    {
     "name": "stdout",
     "output_type": "stream",
     "text": [
      "helloworld\n"
     ]
    }
   ],
   "source": [
    "a = 'hello'\n",
    "b = 'world'\n",
    "print (a+b)"
   ]
  },
  {
   "cell_type": "code",
   "execution_count": 4,
   "metadata": {
    "scrolled": true
   },
   "outputs": [
    {
     "name": "stdout",
     "output_type": "stream",
     "text": [
      "True\n",
      "False\n"
     ]
    }
   ],
   "source": [
    "a = 10\n",
    "print (a==10)\n",
    "b = 10\n",
    "print(b!=10)"
   ]
  },
  {
   "cell_type": "code",
   "execution_count": 16,
   "metadata": {},
   "outputs": [
    {
     "name": "stdout",
     "output_type": "stream",
     "text": [
      "Enter a value :55\n",
      "<class 'int'>\n",
      "55\n"
     ]
    }
   ],
   "source": [
    "#print() , type()\n",
    "a = eval(input(\"Enter a value :\"))\n",
    "print(type(a))\n",
    "print(a)"
   ]
  },
  {
   "cell_type": "code",
   "execution_count": 13,
   "metadata": {},
   "outputs": [
    {
     "name": "stdout",
     "output_type": "stream",
     "text": [
      "Enter the values for a and b :5,6\n",
      "Sum =  11\n",
      "Difference =  1\n",
      "Product =  30\n",
      "Integer division = 0\n",
      "Float division = 0.8333333333333334\n",
      "Remainder = 5\n",
      "Exponentiation = 15625\n"
     ]
    }
   ],
   "source": [
    "#Arithmetic expressions using simultaneous assignment \n",
    "\n",
    "a , b = eval(input(\"Enter the values for a and b :\"))\n",
    "\"\"\"a  = eval(input(\"Enter the value for a  :\"))\n",
    "b = eval(input(\"Enter the value for b :\"))\"\"\"\n",
    "print(\"Sum = \",a+b)\n",
    "print(\"Difference = \",b-a)\n",
    "print(\"Product = \",a*b)\n",
    "print(\"Integer division =\", a//b)\n",
    "print(\"Float division =\", a/b)\n",
    "print(\"Remainder =\", a%b)\n",
    "print(\"Exponentiation =\", a**b)"
   ]
  },
  {
   "cell_type": "code",
   "execution_count": 14,
   "metadata": {},
   "outputs": [
    {
     "name": "stdout",
     "output_type": "stream",
     "text": [
      "Enter four numbers: 5,6,1,2\n",
      "14\n"
     ]
    }
   ],
   "source": [
    "#simultaneous assignment\n",
    "\n",
    "n1,n2,n3,n4 = eval(input(\"Enter four numbers: \"))\n",
    "print(n1+n2+n3+n4)"
   ]
  },
  {
   "cell_type": "code",
   "execution_count": 20,
   "metadata": {},
   "outputs": [
    {
     "name": "stdout",
     "output_type": "stream",
     "text": [
      "2\n",
      "<class 'int'>\n",
      "3\n",
      "<class 'str'>\n",
      "4.5\n",
      "<class 'float'>\n",
      "[5, 8, 9]\n",
      "<class 'list'>\n",
      "{2: 'a'}\n",
      "<class 'dict'>\n"
     ]
    }
   ],
   "source": [
    "#simultaneous assignment\n",
    "\n",
    "a,b,c,d,e = 2,'3',4.5,[5,8,9],{2:'a'}\n",
    "print(a)\n",
    "print(type(a))\n",
    "\n",
    "print(b)\n",
    "print(type(b))\n",
    "\n",
    "print(c)\n",
    "print(type(c))\n",
    "\n",
    "print(d)\n",
    "print(type(d))\n",
    "\n",
    "print(e)\n",
    "print(type(e))\n"
   ]
  },
  {
   "cell_type": "code",
   "execution_count": 21,
   "metadata": {},
   "outputs": [
    {
     "name": "stdout",
     "output_type": "stream",
     "text": [
      "Enter values for x and y :8,7\n",
      "x =  8 y=  7\n",
      "x =  7 y=  8\n"
     ]
    }
   ],
   "source": [
    "#swapping using simultaneous assignment \n",
    "x,y = eval(input(\"Enter values for x and y :\"))\n",
    "print(\"x = \",x, \"y= \", y)\n",
    "x,y=y,x\n",
    "print(\"x = \",x, \"y= \", y)"
   ]
  },
  {
   "cell_type": "code",
   "execution_count": 30,
   "metadata": {},
   "outputs": [
    {
     "name": "stdout",
     "output_type": "stream",
     "text": [
      "Enter values for a and b: 3,2\n",
      "a =  6\n",
      "a =  36\n",
      "a =  34\n"
     ]
    }
   ],
   "source": [
    "#Augmented assignment operators\n",
    "a,b = eval(input(\"Enter values for a and b: \"))\n",
    "a+=a\n",
    "print(\"a = \", a)\n",
    "a**=b\n",
    "print(\"a = \", a)\n",
    "a-=b\n",
    "print(\"a = \" ,a)"
   ]
  },
  {
   "cell_type": "code",
   "execution_count": 31,
   "metadata": {},
   "outputs": [
    {
     "name": "stdout",
     "output_type": "stream",
     "text": [
      "True\n",
      "False\n",
      "False\n",
      "True\n"
     ]
    }
   ],
   "source": [
    "#Relational operators\n",
    "a = 30\n",
    "b = 20\n",
    "print(a>b)\n",
    "print(a<b)\n",
    "print(a==b)\n",
    "print(a!=b)"
   ]
  },
  {
   "cell_type": "code",
   "execution_count": 32,
   "metadata": {},
   "outputs": [
    {
     "name": "stdout",
     "output_type": "stream",
     "text": [
      "(10+15j)\n"
     ]
    }
   ],
   "source": [
    "#complex() method usage\n",
    "= 10\n",
    "b = 15\n",
    "x = complex(a,b)\n",
    "print(x)"
   ]
  },
  {
   "cell_type": "code",
   "execution_count": 33,
   "metadata": {},
   "outputs": [
    {
     "name": "stdout",
     "output_type": "stream",
     "text": [
      "False\n",
      "False\n",
      "True\n"
     ]
    }
   ],
   "source": [
    "#Logical operator\n",
    "a = True\n",
    "b = False\n",
    "c = True\n",
    "print(not(a))\n",
    "print(a and b)\n",
    "print(a or b)"
   ]
  },
  {
   "cell_type": "code",
   "execution_count": 34,
   "metadata": {},
   "outputs": [
    {
     "name": "stdout",
     "output_type": "stream",
     "text": [
      "8\n",
      "10\n",
      "2\n",
      "-9\n",
      "0\n",
      "8192\n"
     ]
    }
   ],
   "source": [
    "#Bitwise operators\n",
    "x = 8\n",
    "y = 10\n",
    "print(x & y)\n",
    "print(x | y)\n",
    "print(x ^ y)\n",
    "print(~x)\n",
    "print(x >> y)\n",
    "print(x << y)"
   ]
  },
  {
   "cell_type": "code",
   "execution_count": 37,
   "metadata": {},
   "outputs": [
    {
     "data": {
      "text/plain": [
       "False"
      ]
     },
     "execution_count": 37,
     "metadata": {},
     "output_type": "execute_result"
    }
   ],
   "source": [
    "#Membership operator\n",
    "a = [1,2,3,4,5]\n",
    "15 in a"
   ]
  },
  {
   "cell_type": "code",
   "execution_count": 45,
   "metadata": {},
   "outputs": [
    {
     "name": "stdout",
     "output_type": "stream",
     "text": [
      "10\n",
      "10\n",
      "9\n"
     ]
    }
   ],
   "source": [
    "#converting diff base system into decimal no. system\n",
    "j='1010'\n",
    "h='a'\n",
    "k='11'\n",
    "\n",
    "n=int(j,2)\n",
    "print(n)\n",
    "\n",
    "p=int(h,16)\n",
    "print(p)\n",
    "\n",
    "q=int(k,8)\n",
    "print(q)"
   ]
  },
  {
   "cell_type": "code",
   "execution_count": 6,
   "metadata": {},
   "outputs": [
    {
     "name": "stdout",
     "output_type": "stream",
     "text": [
      "Enter three numbers : 2.5,3.3,55.66\n",
      "The average is : 20.486666666666665\n"
     ]
    }
   ],
   "source": [
    "#avg of 3 no.s\n",
    "a,b,c = eval(input(\"Enter three numbers : \"))\n",
    "avg = ((a+b+c)/3)\n",
    "print(\"The average is :\", avg)"
   ]
  },
  {
   "cell_type": "code",
   "execution_count": 7,
   "metadata": {},
   "outputs": [
    {
     "name": "stdout",
     "output_type": "stream",
     "text": [
      "Enter the radius : 5\n",
      "The area is :  78.5\n"
     ]
    }
   ],
   "source": [
    "#Area of Circle\n",
    "rad = eval(input(\"Enter the radius : \"))\n",
    "area = 3.14*rad*rad\n",
    "print(\"The area is : \", area)"
   ]
  },
  {
   "cell_type": "code",
   "execution_count": 8,
   "metadata": {},
   "outputs": [
    {
     "name": "stdout",
     "output_type": "stream",
     "text": [
      "Enter the value of base : 5\n",
      "Enter the value of height : 3\n",
      "Thea area is : 7.5\n"
     ]
    }
   ],
   "source": [
    "#Area of Triangle\n",
    "base = eval(input(\"Enter the value of base : \"))\n",
    "height = eval(input(\"Enter the value of height : \"))\n",
    "area = 0.5*base*height\n",
    "print(\"Thea area is :\", area)"
   ]
  },
  {
   "cell_type": "code",
   "execution_count": 4,
   "metadata": {},
   "outputs": [
    {
     "name": "stdout",
     "output_type": "stream",
     "text": [
      "Enter a number :15.35\n",
      "The absolute value is :  15.35\n"
     ]
    }
   ],
   "source": [
    "#predefined fn.s ; abs(x)\n",
    "x = eval(input(\"Enter a number :\"))\n",
    "print(\"The absolute value is : \", abs(x))\n",
    "\n",
    "#SyntaxError: leading zeros in decimal integer literals are not permitted; \n",
    "#use an 0o prefix for octal integers\n",
    "#if 003 is given then above error occurs"
   ]
  },
  {
   "cell_type": "code",
   "execution_count": 7,
   "metadata": {},
   "outputs": [
    {
     "name": "stdout",
     "output_type": "stream",
     "text": [
      "Enter three numbers : 5,88,1\n",
      "The maximum of the numbers is:  88\n",
      "The minimum of the numbers is:  1\n"
     ]
    }
   ],
   "source": [
    "#max(x) and min(x)\n",
    "a,b,c = eval(input(\"Enter three numbers : \"))\n",
    "print(\"The maximum of the numbers is: \", max(a,b,c))\n",
    "print(\"The minimum of the numbers is: \", min(a,b,c))"
   ]
  },
  {
   "cell_type": "code",
   "execution_count": 2,
   "metadata": {},
   "outputs": [
    {
     "name": "stdout",
     "output_type": "stream",
     "text": [
      "8\n"
     ]
    }
   ],
   "source": [
    "#pow()\n",
    "a=pow(2,3)\n",
    "print(a)"
   ]
  },
  {
   "cell_type": "code",
   "execution_count": 3,
   "metadata": {},
   "outputs": [
    {
     "name": "stdout",
     "output_type": "stream",
     "text": [
      "3\n",
      "10.53\n"
     ]
    }
   ],
   "source": [
    "#round off: round() cathces nearest even value\n",
    "b=round(3.4)\n",
    "print(b)\n",
    "\n",
    "c=round(10.53346,2)\n",
    "print(c)"
   ]
  },
  {
   "cell_type": "code",
   "execution_count": 16,
   "metadata": {},
   "outputs": [
    {
     "name": "stdout",
     "output_type": "stream",
     "text": [
      "<class 'list'>\n",
      "<class 'bytes'>\n"
     ]
    }
   ],
   "source": [
    "ele=[35,56]\n",
    "print(type(ele))\n",
    "x=bytes(ele)\n",
    "print(type(x))"
   ]
  },
  {
   "cell_type": "code",
   "execution_count": 18,
   "metadata": {},
   "outputs": [
    {
     "name": "stdout",
     "output_type": "stream",
     "text": [
      "enter 2 no.s :5,4\n",
      "1681\n"
     ]
    }
   ],
   "source": [
    "#pythagorus theorem a**2+b**2=c**2\n",
    "a,b=eval(input(\"enter 2 no.s :\"))\n",
    "c=pow(a,2)+pow(b,2)\n",
    "ans=pow(c,2)\n",
    "print(ans)"
   ]
  },
  {
   "cell_type": "code",
   "execution_count": 4,
   "metadata": {},
   "outputs": [
    {
     "name": "stdout",
     "output_type": "stream",
     "text": [
      "56\n",
      "0.8358064233323861\n",
      "93\n",
      "23.781112868140802\n"
     ]
    }
   ],
   "source": [
    "#random module  --------------------write\n",
    "import random\n",
    "print(random.randint(1, 100)) #random no. b/w 1 to 100 will print\n",
    "print(random.random())           \n",
    "print(random.randrange(100)) \n",
    "print(random.uniform(1, 100))"
   ]
  },
  {
   "cell_type": "code",
   "execution_count": 1,
   "metadata": {},
   "outputs": [
    {
     "name": "stdout",
     "output_type": "stream",
     "text": [
      "Answer the questions \n",
      "\n",
      "Q1) What is the sum of 28 and 82 :110\n",
      "     Correct\n",
      "Q2) What is the sum of 22 and 72 :94\n",
      "     Correct\n",
      "Q3) What is the sum of 22 and 52 :74\n",
      "     Correct\n",
      "Q4) What is the sum of 27 and 70 :97\n",
      "     Correct\n",
      "Q5) What is the sum of 74 and 22 :5\n",
      "       Wrong. Try next one !!!\n",
      "Q6) What is the sum of 51 and 57 :108\n",
      "     Correct\n",
      "Q7) What is the sum of 96 and 18 :114\n",
      "     Correct\n",
      "Q8) What is the sum of 45 and 47 :92\n",
      "     Correct\n",
      "Q9) What is the sum of 16 and 25 :41\n",
      "     Correct\n",
      "Q10) What is the sum of 48 and 42 :90\n",
      "     Correct\n",
      "\n",
      "You have scored :  9  out of 10\n",
      "Thank you\n"
     ]
    }
   ],
   "source": [
    "#Q and A program\n",
    "import random\n",
    "count=0\n",
    "print(\"Answer the questions \\n\")\n",
    "for i in range(1,11):\n",
    "    n1= random.randint(1,100)\n",
    "    n2= random.randint(1,100)\n",
    "    result=int(input(\"Q\" +str(i)+ \") What is the sum of \" +str(n1)+ \" and \" +str(n2)+ \" :\"))\n",
    "    if result == n1+n2:\n",
    "        print(\"     Correct\")\n",
    "        #break\n",
    "        count+=1\n",
    "    else:\n",
    "        print(\"       Wrong. Try next one !!!\")\n",
    "print()\n",
    "print(\"You have scored : \", count , \" out of 10\")\n",
    "print(\"Thank you\")"
   ]
  },
  {
   "cell_type": "code",
   "execution_count": 4,
   "metadata": {},
   "outputs": [
    {
     "name": "stdout",
     "output_type": "stream",
     "text": [
      "Enetr the sum of 5 and6 :11\n",
      "Total count is :  1\n",
      "Enetr the sum of 3 and7 :10\n",
      "Total count is :  2\n",
      "Enetr the sum of 6 and6 :12\n",
      "Total count is :  3\n",
      "Enetr the sum of 6 and9 :12\n",
      "Enetr the sum of 6 and1 :7\n",
      "Total count is :  4\n",
      "Enetr the sum of 2 and1 :3\n",
      "Total count is :  5\n",
      "\n",
      "Time up\n"
     ]
    }
   ],
   "source": [
    "import time\n",
    "import random\n",
    "start = time.time()\n",
    "count = 0\n",
    "while True:\n",
    "    if(time.time( )-start > 10):\n",
    "        print( )\n",
    "        print(\"Time up\")\n",
    "        break\n",
    "    m= random.randrange(1,10)\n",
    "    n  = random.randrange(1,10)\n",
    "    sum=int(input(\"Enetr the sum of \" +str(m)+ \" and\" +str(n)+ \" :\"))\n",
    "    if sum == m+n:\n",
    "        count+=1\n",
    "        print(\"Total count is : \" , count)"
   ]
  },
  {
   "cell_type": "code",
   "execution_count": null,
   "metadata": {},
   "outputs": [],
   "source": []
  }
 ],
 "metadata": {
  "kernelspec": {
   "display_name": "Python 3",
   "language": "python",
   "name": "python3"
  },
  "language_info": {
   "codemirror_mode": {
    "name": "ipython",
    "version": 3
   },
   "file_extension": ".py",
   "mimetype": "text/x-python",
   "name": "python",
   "nbconvert_exporter": "python",
   "pygments_lexer": "ipython3",
   "version": "3.8.3"
  }
 },
 "nbformat": 4,
 "nbformat_minor": 4
}
